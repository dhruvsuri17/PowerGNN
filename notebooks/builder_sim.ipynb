{
 "cells": [
  {
   "cell_type": "code",
   "execution_count": 1,
   "metadata": {},
   "outputs": [],
   "source": [
    "import sys\n",
    "import os\n",
    "\n",
    "# Get the absolute path of the project root directory\n",
    "project_root = os.path.abspath(os.path.join(os.getcwd(), \"..\"))\n",
    "\n",
    "if project_root not in sys.path:\n",
    "    sys.path.append(project_root)"
   ]
  },
  {
   "cell_type": "code",
   "execution_count": 2,
   "metadata": {},
   "outputs": [],
   "source": [
    "import pickle\n",
    "import os\n",
    "\n",
    "# Define the directory and file path\n",
    "save_dir = \"../data/parsed/\"\n",
    "load_path = os.path.join(save_dir, \"builder.pkl\")\n",
    "\n",
    "# Load the builder object\n",
    "with open(load_path, \"rb\") as f:\n",
    "    builder = pickle.load(f)"
   ]
  },
  {
   "cell_type": "code",
   "execution_count": 3,
   "metadata": {},
   "outputs": [],
   "source": [
    "sample = builder.run(builder.timestamps[0])"
   ]
  },
  {
   "cell_type": "code",
   "execution_count": 4,
   "metadata": {},
   "outputs": [
    {
     "data": {
      "text/plain": [
       "This pandapower network includes the following parameter tables:\n",
       "   - bus (118 elements)\n",
       "   - load (91 elements)\n",
       "   - gen (321 elements)\n",
       "   - ext_grid (1 element)\n",
       "   - line (177 elements)\n",
       "   - trafo (9 elements)\n",
       "   - bus_geodata (118 elements)\n",
       " and the following results tables:\n",
       "   - res_bus (118 elements)\n",
       "   - res_line (177 elements)\n",
       "   - res_trafo (9 elements)\n",
       "   - res_ext_grid (1 element)\n",
       "   - res_load (91 elements)\n",
       "   - res_gen (321 elements)"
      ]
     },
     "execution_count": 4,
     "metadata": {},
     "output_type": "execute_result"
    }
   ],
   "source": [
    "sample"
   ]
  },
  {
   "cell_type": "code",
   "execution_count": null,
   "metadata": {},
   "outputs": [],
   "source": []
  }
 ],
 "metadata": {
  "kernelspec": {
   "display_name": "venv",
   "language": "python",
   "name": "python3"
  },
  "language_info": {
   "codemirror_mode": {
    "name": "ipython",
    "version": 3
   },
   "file_extension": ".py",
   "mimetype": "text/x-python",
   "name": "python",
   "nbconvert_exporter": "python",
   "pygments_lexer": "ipython3",
   "version": "3.10.16"
  }
 },
 "nbformat": 4,
 "nbformat_minor": 2
}
